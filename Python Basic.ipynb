{
  "nbformat": 4,
  "nbformat_minor": 0,
  "metadata": {
    "colab": {
      "name": "Untitled1.ipynb",
      "provenance": [],
      "authorship_tag": "ABX9TyN62x1OEiubLQoXW12c93FK",
      "include_colab_link": true
    },
    "kernelspec": {
      "name": "python3",
      "display_name": "Python 3"
    },
    "language_info": {
      "name": "python"
    }
  },
  "cells": [
    {
      "cell_type": "markdown",
      "metadata": {
        "id": "view-in-github",
        "colab_type": "text"
      },
      "source": [
        "<a href=\"https://colab.research.google.com/github/gunjuwasiu2021/Basic-Web-Dev-Bootcamp-Project/blob/main/Python%20Basic.ipynb\" target=\"_parent\"><img src=\"https://colab.research.google.com/assets/colab-badge.svg\" alt=\"Open In Colab\"/></a>"
      ]
    },
    {
      "cell_type": "code",
      "execution_count": null,
      "metadata": {
        "id": "yqJlbr3W8uPn",
        "colab": {
          "base_uri": "https://localhost:8080/"
        },
        "outputId": "7838adfc-ee58-425e-e30f-66623b12899a"
      },
      "outputs": [
        {
          "output_type": "stream",
          "name": "stdout",
          "text": [
            "Abdulwasiu Olagunju\n"
          ]
        }
      ],
      "source": [
        "firstname = \"Abdulwasiu\"\n",
        "lastname = \"Olagunju\"\n",
        "fullname = firstname + \" \" + lastname\n",
        "print(fullname)"
      ]
    },
    {
      "cell_type": "code",
      "source": [
        "firstname = \"Abdulwasiu\"\n",
        "lastname = \"Olagunju\"\n",
        "print(\"My name is {} {}\".format(firstname, lastname ))"
      ],
      "metadata": {
        "colab": {
          "base_uri": "https://localhost:8080/"
        },
        "id": "CW_0vI54ca_k",
        "outputId": "4ef77708-fe07-4ab7-d4f3-52a3dc0232ee"
      },
      "execution_count": null,
      "outputs": [
        {
          "output_type": "stream",
          "name": "stdout",
          "text": [
            "My name is Abdulwasiu Olagunju\n"
          ]
        }
      ]
    },
    {
      "cell_type": "code",
      "source": [
        "firstname = \"Abdulwasiu\"\n",
        "lastname = \"Olagunju\"\n",
        "print(f\"My name is {firstname} {lastname}\")"
      ],
      "metadata": {
        "colab": {
          "base_uri": "https://localhost:8080/"
        },
        "id": "uxk_dXjicb5N",
        "outputId": "1f7e10ec-3fa7-4cf4-fc15-a83c5490bc57"
      },
      "execution_count": null,
      "outputs": [
        {
          "output_type": "stream",
          "name": "stdout",
          "text": [
            "My name is Abdulwasiu Olagunju\n"
          ]
        }
      ]
    },
    {
      "cell_type": "code",
      "source": [
        "firstname = \"adewale\"\n",
        "lastname = \"ABIODUN\"\n",
        "print(firstname.title())\n",
        "print(firstname.upper())\n",
        "print(lastname.lower())\n",
        "print(firstname[0:3])"
      ],
      "metadata": {
        "colab": {
          "base_uri": "https://localhost:8080/"
        },
        "id": "5m4_nPdrfytm",
        "outputId": "dba90509-81f7-4ab5-cfde-cb20247d9c37"
      },
      "execution_count": null,
      "outputs": [
        {
          "output_type": "stream",
          "name": "stdout",
          "text": [
            "Adewale\n",
            "ADEWALE\n",
            "abiodun\n",
            "ade\n"
          ]
        }
      ]
    },
    {
      "cell_type": "code",
      "source": [
        "firstname = \"Abdulwasiu\"\n",
        "lastname = \"Olagunju\"\n",
        "firstname.isalnum()"
      ],
      "metadata": {
        "colab": {
          "base_uri": "https://localhost:8080/"
        },
        "id": "SBkUgl-bmayS",
        "outputId": "7f7f43cb-8b59-495e-ba41-21db999618e6"
      },
      "execution_count": null,
      "outputs": [
        {
          "output_type": "execute_result",
          "data": {
            "text/plain": [
              "True"
            ]
          },
          "metadata": {},
          "execution_count": 15
        }
      ]
    },
    {
      "cell_type": "code",
      "source": [
        "lastname = \"Olagunju\"\n",
        "lastname.isdecimal()"
      ],
      "metadata": {
        "colab": {
          "base_uri": "https://localhost:8080/"
        },
        "id": "7hAxEmtQnh1X",
        "outputId": "47e46f7a-4321-4f50-a810-7134624ebb02"
      },
      "execution_count": null,
      "outputs": [
        {
          "output_type": "execute_result",
          "data": {
            "text/plain": [
              "False"
            ]
          },
          "metadata": {},
          "execution_count": 17
        }
      ]
    },
    {
      "cell_type": "code",
      "source": [
        "firstname = \"Abdulwasiu\"\n",
        "lastname = \"Olagunju\"\n",
        "lastname = lastname.lstrip(\"O\")\n",
        "print(lastname.capitalize())"
      ],
      "metadata": {
        "colab": {
          "base_uri": "https://localhost:8080/"
        },
        "id": "i-YQCdt3pJI1",
        "outputId": "423dc6df-1d69-4f6f-a8d1-6798a4df4629"
      },
      "execution_count": null,
      "outputs": [
        {
          "output_type": "stream",
          "name": "stdout",
          "text": [
            "Lagunju\n"
          ]
        }
      ]
    },
    {
      "cell_type": "code",
      "source": [
        "father = \"Daddy\"\n",
        "father = father.lstrip(\"D\")\n",
        "print(father)"
      ],
      "metadata": {
        "colab": {
          "base_uri": "https://localhost:8080/"
        },
        "id": "bVlINTvyulZK",
        "outputId": "f161418c-c7a3-4340-86df-f57708c5a272"
      },
      "execution_count": null,
      "outputs": [
        {
          "output_type": "stream",
          "name": "stdout",
          "text": [
            "addy\n"
          ]
        }
      ]
    },
    {
      "cell_type": "code",
      "source": [
        "father = \"Daddy\"\n",
        "father = father.rstrip(\"y\")\n",
        "print(father)"
      ],
      "metadata": {
        "colab": {
          "base_uri": "https://localhost:8080/"
        },
        "id": "hhFdB1EYsoB4",
        "outputId": "5271d7ee-7b20-4ff5-a35f-38d401812ae2"
      },
      "execution_count": null,
      "outputs": [
        {
          "output_type": "stream",
          "name": "stdout",
          "text": [
            "Dadd\n"
          ]
        }
      ]
    },
    {
      "cell_type": "code",
      "source": [
        "father = \"Daddy\"\n",
        "father = father.strip(\"Dy\")\n",
        "print(father)"
      ],
      "metadata": {
        "colab": {
          "base_uri": "https://localhost:8080/"
        },
        "id": "feH00H8xtl9u",
        "outputId": "ae11f9cd-9059-4fad-e325-f81d52a0ef8d"
      },
      "execution_count": null,
      "outputs": [
        {
          "output_type": "stream",
          "name": "stdout",
          "text": [
            "add\n"
          ]
        }
      ]
    },
    {
      "cell_type": "code",
      "source": [
        "x = 20\n",
        "y = 10\n",
        "if x > y:\n",
        "  print(\"x is greater than y\")"
      ],
      "metadata": {
        "colab": {
          "base_uri": "https://localhost:8080/"
        },
        "id": "uAZFXetN4uWB",
        "outputId": "36eb31b3-bf0d-424d-c2c7-1b9033cc5434"
      },
      "execution_count": null,
      "outputs": [
        {
          "output_type": "stream",
          "name": "stdout",
          "text": [
            "x is greater than y\n"
          ]
        }
      ]
    },
    {
      "cell_type": "code",
      "source": [
        "x = 20\n",
        "y = 10\n",
        "if x < y:\n",
        "  print(\"x is less than y\")\n",
        "else:\n",
        "  print(\"y is less than x\")"
      ],
      "metadata": {
        "colab": {
          "base_uri": "https://localhost:8080/"
        },
        "id": "eeW6pmtb46Rb",
        "outputId": "28f15cff-51f2-47cf-e696-5108518fb3c3"
      },
      "execution_count": null,
      "outputs": [
        {
          "output_type": "stream",
          "name": "stdout",
          "text": [
            "y is less than x\n"
          ]
        }
      ]
    },
    {
      "cell_type": "code",
      "source": [
        "x = 10\n",
        "y = 10\n",
        "if x > y:\n",
        "  print(\"x is greater than y\")\n",
        "elif x == y:\n",
        "  print(\"x is equal to y\")\n",
        "else:\n",
        "  print(\"y is greater than x\")"
      ],
      "metadata": {
        "colab": {
          "base_uri": "https://localhost:8080/"
        },
        "id": "Lzk1DNlu5XWf",
        "outputId": "b6132d27-cdbe-45b0-dcba-7bc7578f9937"
      },
      "execution_count": null,
      "outputs": [
        {
          "output_type": "stream",
          "name": "stdout",
          "text": [
            "x is equal to y\n"
          ]
        }
      ]
    },
    {
      "cell_type": "code",
      "source": [
        "students = [\"Ade\", \"Computer Science\", 25]\n",
        "print(students)\n",
        "students[2] = 28\n",
        "print(students)"
      ],
      "metadata": {
        "colab": {
          "base_uri": "https://localhost:8080/"
        },
        "id": "_VMbvpjx6LWB",
        "outputId": "84363aa1-786d-4f9b-f3e1-3d155544e97b"
      },
      "execution_count": null,
      "outputs": [
        {
          "output_type": "stream",
          "name": "stdout",
          "text": [
            "['Ade', 'Computer Science', 25]\n",
            "['Ade', 'Computer Science', 28]\n"
          ]
        }
      ]
    },
    {
      "cell_type": "code",
      "source": [
        "list1 = [\"Ade\", \"Computer Science\", 25, [300, \"tall\"]]\n",
        "print(list1)\n",
        "list2 = list1[3]\n",
        "print(list2)"
      ],
      "metadata": {
        "colab": {
          "base_uri": "https://localhost:8080/"
        },
        "id": "aJmoCYPw6fce",
        "outputId": "e6a0857c-d99a-423e-8f70-76ba95800c31"
      },
      "execution_count": null,
      "outputs": [
        {
          "output_type": "stream",
          "name": "stdout",
          "text": [
            "['Ade', 'Computer Science', 25, [300, 'tall']]\n",
            "[300, 'tall']\n"
          ]
        }
      ]
    },
    {
      "cell_type": "code",
      "source": [
        "weekdays = ['Monday', 'Tuesday', 'Wednesday', 'Thursdays', 'Friday']\n",
        "print(weekdays)\n",
        "weekdays.append('Saturday')\n",
        "print(weekdays)"
      ],
      "metadata": {
        "colab": {
          "base_uri": "https://localhost:8080/"
        },
        "id": "v_2qanE48R9U",
        "outputId": "491c0a12-15de-418c-b929-6c115d9c8164"
      },
      "execution_count": null,
      "outputs": [
        {
          "output_type": "stream",
          "name": "stdout",
          "text": [
            "['Monday', 'Tuesday', 'Wednesday', 'Thursdays', 'Friday']\n",
            "['Monday', 'Tuesday', 'Wednesday', 'Thursdays', 'Friday', 'Saturday']\n"
          ]
        }
      ]
    },
    {
      "cell_type": "code",
      "source": [
        "weekdays = ['Monday', 'Tuesday', 'Wednesday', 'Thursdays', 'Friday']\n",
        "print(weekdays)\n",
        "weekdays.extend(['Saturday', 'Sunday'])\n",
        "print(weekdays)"
      ],
      "metadata": {
        "colab": {
          "base_uri": "https://localhost:8080/"
        },
        "id": "cXcMHadO8fFN",
        "outputId": "72b0c36b-0df2-441e-d24c-23889a32bff6"
      },
      "execution_count": null,
      "outputs": [
        {
          "output_type": "stream",
          "name": "stdout",
          "text": [
            "['Monday', 'Tuesday', 'Wednesday', 'Thursdays', 'Friday']\n",
            "['Monday', 'Tuesday', 'Wednesday', 'Thursdays', 'Friday', 'Saturday', 'Sunday']\n"
          ]
        }
      ]
    },
    {
      "cell_type": "code",
      "source": [
        "weekdays = ['Monday', 'Tuesday', 'Wednesday', 'Thursdays', 'Friday']\n",
        "print(weekdays.index('Monday'))\n",
        "print(weekdays)"
      ],
      "metadata": {
        "colab": {
          "base_uri": "https://localhost:8080/"
        },
        "id": "qAqlqRO39ttS",
        "outputId": "d2871a91-aa34-4e68-a767-01be8a36bb35"
      },
      "execution_count": null,
      "outputs": [
        {
          "output_type": "stream",
          "name": "stdout",
          "text": [
            "0\n",
            "['Monday', 'Tuesday', 'Wednesday', 'Thursdays', 'Friday']\n"
          ]
        }
      ]
    },
    {
      "cell_type": "code",
      "source": [
        "week = ('Mon', 'Tue', 'Wed')\n",
        "week1 = tuple(['Thu', 'Fri'])\n",
        "week2 = week + week1\n",
        "print(week)\n",
        "print(week1)\n",
        "print(week2)\n",
        "print('Fri' in week2)\n",
        "print('Sat' in week2)"
      ],
      "metadata": {
        "colab": {
          "base_uri": "https://localhost:8080/"
        },
        "id": "Klm_WxVEIHbN",
        "outputId": "0beb7f17-1f78-4681-bca4-719c2fa37d13"
      },
      "execution_count": null,
      "outputs": [
        {
          "output_type": "stream",
          "name": "stdout",
          "text": [
            "('Mon', 'Tue', 'Wed')\n",
            "('Thu', 'Fri')\n",
            "('Mon', 'Tue', 'Wed', 'Thu', 'Fri')\n",
            "True\n",
            "False\n"
          ]
        }
      ]
    },
    {
      "cell_type": "code",
      "source": [
        "colors = {'red', 'green', 'blue'}\n",
        "colors1 = {'red' 'green', 'blue', 'white', 'black', 'red', 'blue'}\n",
        "colors_list = list(colors1)\n",
        "rainbow = set(['red', 'orange', 'yellow','green', 'blue', 'indigo', 'violet' ])\n",
        "print (colors)\n",
        "print(colors1)\n",
        "print(colors_list)\n",
        "print(rainbow)"
      ],
      "metadata": {
        "colab": {
          "base_uri": "https://localhost:8080/"
        },
        "id": "NtfxtNMJMbKn",
        "outputId": "22a3f253-c8d0-4289-ad6f-c41b19f099c4"
      },
      "execution_count": null,
      "outputs": [
        {
          "output_type": "stream",
          "name": "stdout",
          "text": [
            "{'blue', 'red', 'green'}\n",
            "{'black', 'blue', 'redgreen', 'white', 'red'}\n",
            "['black', 'blue', 'redgreen', 'white', 'red']\n",
            "{'yellow', 'blue', 'violet', 'indigo', 'orange', 'red', 'green'}\n"
          ]
        }
      ]
    },
    {
      "cell_type": "code",
      "source": [
        "rainbow = set(['red', 'orange', 'yellow','green', 'blue', 'indigo', 'violet' ])\n",
        "print(rainbow.remove('orange'))\n",
        "print(rainbow.discard('violet'))\n",
        "print(rainbow)"
      ],
      "metadata": {
        "colab": {
          "base_uri": "https://localhost:8080/"
        },
        "id": "Zg2WJxrHMbjH",
        "outputId": "1285f2eb-16c2-4ffe-9efe-fcae35d65ef4"
      },
      "execution_count": null,
      "outputs": [
        {
          "output_type": "stream",
          "name": "stdout",
          "text": [
            "None\n",
            "None\n",
            "{'yellow', 'blue', 'indigo', 'red', 'green'}\n"
          ]
        }
      ]
    },
    {
      "cell_type": "code",
      "source": [
        "rainbow = set(['red', 'orange', 'yellow','green', 'blue', 'indigo', 'violet' ])\n",
        "print(rainbow.add('white'))\n",
        "print(rainbow)\n",
        "print(\"Size of the set = \" + str(len(rainbow))) #Only strings can be concatenated"
      ],
      "metadata": {
        "colab": {
          "base_uri": "https://localhost:8080/"
        },
        "id": "oakfd6UQO8TH",
        "outputId": "f35982e9-a8cf-40e5-be02-4ef61a29c5d3"
      },
      "execution_count": null,
      "outputs": [
        {
          "output_type": "stream",
          "name": "stdout",
          "text": [
            "None\n",
            "{'yellow', 'blue', 'violet', 'indigo', 'orange', 'white', 'red', 'green'}\n",
            "Size of the set = 8\n"
          ]
        }
      ]
    },
    {
      "cell_type": "markdown",
      "source": [
        "Set Union"
      ],
      "metadata": {
        "id": "RbcaYG_4Rvmm"
      }
    },
    {
      "cell_type": "code",
      "source": [
        "set_a = {'red', 'orange', 'yellow','green'}\n",
        "set_b = {'blue', 'indigo', 'violet' }\n",
        "#set_c = (set_a | set_b)\n",
        "set_c = (set_a.union(set_b)) # alternative\n",
        "print(set_a)\n",
        "print(set_b)\n",
        "print(set_c)"
      ],
      "metadata": {
        "colab": {
          "base_uri": "https://localhost:8080/"
        },
        "id": "uw2bksY_P6QT",
        "outputId": "d0d27d7c-f1dd-4d79-f3ee-e769c00d86c1"
      },
      "execution_count": null,
      "outputs": [
        {
          "output_type": "stream",
          "name": "stdout",
          "text": [
            "{'yellow', 'orange', 'red', 'green'}\n",
            "{'violet', 'blue', 'indigo'}\n",
            "{'yellow', 'orange', 'violet', 'blue', 'indigo', 'red', 'green'}\n"
          ]
        }
      ]
    },
    {
      "cell_type": "markdown",
      "source": [
        "Set Intersection"
      ],
      "metadata": {
        "id": "NvGAPGnKRzJ1"
      }
    },
    {
      "cell_type": "code",
      "source": [
        "set_1 = {'red', 'orange', 'yellow','green', 'pink'}\n",
        "set_2 = {'blue', 'indigo', 'violet', 'pink'}\n",
        "#set_3 = (set_1 & set_2)\n",
        "set_3 = (set_1.union(set_2)) # alternative\n",
        "print(set_1)\n",
        "print(set_2)\n",
        "print(set_3)"
      ],
      "metadata": {
        "colab": {
          "base_uri": "https://localhost:8080/"
        },
        "id": "1W5zkK4PQvdI",
        "outputId": "fe0cb283-66ba-475b-85e3-5ad0e58ad520"
      },
      "execution_count": null,
      "outputs": [
        {
          "output_type": "stream",
          "name": "stdout",
          "text": [
            "{'yellow', 'orange', 'pink', 'red', 'green'}\n",
            "{'violet', 'blue', 'pink', 'indigo'}\n",
            "{'yellow', 'violet', 'blue', 'indigo', 'orange', 'pink', 'red', 'green'}\n"
          ]
        }
      ]
    },
    {
      "cell_type": "markdown",
      "source": [
        "Set Difference"
      ],
      "metadata": {
        "id": "bMO5MiVhR2h2"
      }
    },
    {
      "cell_type": "code",
      "source": [
        "rainbow_1 = {'red', 'orange', 'yellow','green', 'pink'}\n",
        "rainbow_2 = {'blue', 'indigo', 'violet', 'pink'}\n",
        "#rainbow_3 = (rainbow_1 - rainbow_2)\n",
        "rainbow_3 = (rainbow_1.difference(rainbow_2)) # alternative\n",
        "print(rainbow_1)\n",
        "print(rainbow_2)\n",
        "print(rainbow_3)"
      ],
      "metadata": {
        "colab": {
          "base_uri": "https://localhost:8080/"
        },
        "id": "UqOTlzZyQbAX",
        "outputId": "94f621f4-9bbe-4bee-f861-6d44b6621bfd"
      },
      "execution_count": null,
      "outputs": [
        {
          "output_type": "stream",
          "name": "stdout",
          "text": [
            "{'yellow', 'orange', 'pink', 'red', 'green'}\n",
            "{'violet', 'blue', 'pink', 'indigo'}\n",
            "{'yellow', 'orange', 'red', 'green'}\n"
          ]
        }
      ]
    },
    {
      "cell_type": "markdown",
      "source": [
        "Set Symmetric Difference"
      ],
      "metadata": {
        "id": "SeI_catpTOGF"
      }
    },
    {
      "cell_type": "code",
      "source": [
        "rainbow_1 = {'red', 'orange', 'yellow','green', 'pink'}\n",
        "rainbow_2 = {'blue', 'indigo', 'violet', 'pink'}\n",
        "#rainbow_3 = (rainbow_1 ^ rainbow_2)\n",
        "rainbow_3 = (rainbow_1.symmetric_difference(rainbow_2)) # alternative\n",
        "print(rainbow_1)\n",
        "print(rainbow_2)\n",
        "print(rainbow_3)"
      ],
      "metadata": {
        "colab": {
          "base_uri": "https://localhost:8080/"
        },
        "id": "tUiS5AffTUuv",
        "outputId": "033a503a-ed23-4fe0-8b21-cbd6c6732bd1"
      },
      "execution_count": null,
      "outputs": [
        {
          "output_type": "stream",
          "name": "stdout",
          "text": [
            "{'yellow', 'orange', 'pink', 'red', 'green'}\n",
            "{'violet', 'blue', 'pink', 'indigo'}\n",
            "{'yellow', 'violet', 'blue', 'indigo', 'orange', 'red', 'green'}\n"
          ]
        }
      ]
    },
    {
      "cell_type": "markdown",
      "source": [
        "Intersection Update"
      ],
      "metadata": {
        "id": "qMjSMmDiWS2Q"
      }
    },
    {
      "cell_type": "code",
      "source": [
        "rainbow_1 = {'red', 'orange', 'yellow','green', 'pink'}\n",
        "rainbow_2 = {'blue', 'indigo', 'violet', 'pink'}\n",
        "rainbow_3 = (rainbow_1.intersection_update(rainbow_2)) # alternative\n",
        "print(rainbow_1)\n",
        "print(rainbow_2)\n",
        "print(rainbow_3)"
      ],
      "metadata": {
        "colab": {
          "base_uri": "https://localhost:8080/"
        },
        "id": "b22bRht0TzzO",
        "outputId": "0cbac228-950a-42dd-c27e-ce7efea1e90b"
      },
      "execution_count": null,
      "outputs": [
        {
          "output_type": "stream",
          "name": "stdout",
          "text": [
            "{'pink'}\n",
            "{'violet', 'blue', 'pink', 'indigo'}\n",
            "None\n",
            "None\n"
          ]
        }
      ]
    },
    {
      "cell_type": "markdown",
      "source": [
        "Difference Update"
      ],
      "metadata": {
        "id": "SVJZw-taWbrG"
      }
    },
    {
      "cell_type": "code",
      "source": [
        "rainbow_1 = {'red', 'orange', 'yellow','green', 'pink'}\n",
        "rainbow_2 = {'blue', 'indigo', 'violet', 'pink'}\n",
        "(rainbow_1.difference_update(rainbow_2))\n",
        "print(rainbow_1)\n",
        "print(rainbow_2)\n"
      ],
      "metadata": {
        "colab": {
          "base_uri": "https://localhost:8080/"
        },
        "id": "DUm8aY9uWhZe",
        "outputId": "d8e31b61-0ede-4e43-b9af-dd48ead37031"
      },
      "execution_count": null,
      "outputs": [
        {
          "output_type": "stream",
          "name": "stdout",
          "text": [
            "{'yellow', 'orange', 'red', 'green'}\n",
            "{'violet', 'blue', 'pink', 'indigo'}\n"
          ]
        }
      ]
    },
    {
      "cell_type": "code",
      "source": [
        ""
      ],
      "metadata": {
        "id": "AnoOQsvLXc56"
      },
      "execution_count": null,
      "outputs": []
    },
    {
      "cell_type": "markdown",
      "source": [
        "Symmetric Difference Update"
      ],
      "metadata": {
        "id": "uVus7tRaXXnM"
      }
    },
    {
      "cell_type": "code",
      "source": [
        "rainbow_1 = {'red', 'orange', 'yellow','green', 'pink'}\n",
        "rainbow_2 = {'blue', 'indigo', 'violet', 'pink'}\n",
        "(rainbow_1.symmetric_difference_update(rainbow_2))\n",
        "print(rainbow_1)\n",
        "print(rainbow_2)"
      ],
      "metadata": {
        "colab": {
          "base_uri": "https://localhost:8080/"
        },
        "id": "uIctDJRWXe2r",
        "outputId": "4bb19cbf-2f0e-4989-f5c0-b12b87ad4045"
      },
      "execution_count": null,
      "outputs": [
        {
          "output_type": "stream",
          "name": "stdout",
          "text": [
            "{'yellow', 'violet', 'blue', 'indigo', 'orange', 'red', 'green'}\n",
            "{'violet', 'blue', 'pink', 'indigo'}\n"
          ]
        }
      ]
    },
    {
      "cell_type": "markdown",
      "source": [
        "Dictionary"
      ],
      "metadata": {
        "id": "iuiptE1wKcK9"
      }
    },
    {
      "cell_type": "code",
      "source": [
        "dico = {'name': 'Wasiu', 'age': 35, 'status':'Staff', 'designation': 'Technologist'}\n",
        "print(dico)\n",
        "key = ['name', 'age', 'status', 'designation']\n",
        "value = ['Adam', '40', 'Staff', 'Lecturer']\n",
        "dico1 = dict(zip(key, value))\n",
        "print(dico1)\n"
      ],
      "metadata": {
        "colab": {
          "base_uri": "https://localhost:8080/"
        },
        "id": "mbyRlOzMKebw",
        "outputId": "94a5acfb-0e19-42ed-d864-5bcb1b395776"
      },
      "execution_count": 3,
      "outputs": [
        {
          "output_type": "stream",
          "name": "stdout",
          "text": [
            "{'name': 'Wasiu', 'age': 35, 'status': 'Staff', 'designation': 'Technologist'}\n",
            "{'name': 'Adam', 'age': '40', 'status': 'Staff', 'designation': 'Lecturer'}\n"
          ]
        }
      ]
    },
    {
      "cell_type": "markdown",
      "source": [
        "Access Dictionary Items"
      ],
      "metadata": {
        "id": "QAFlBd1iQ8k5"
      }
    },
    {
      "cell_type": "code",
      "source": [
        "dico = {'name': 'Wasiu', 'age': 35, 'status':'Staff', 'designation': 'Technologist'}\n",
        "print(dico['name'])\n",
        "#print(dico['gender']) Accessing item that's not in the dictionary will give Key Error"
      ],
      "metadata": {
        "colab": {
          "base_uri": "https://localhost:8080/"
        },
        "id": "H2TViRX4bUw9",
        "outputId": "35ea0083-bac8-4155-e7b9-a4fb935474b0"
      },
      "execution_count": 8,
      "outputs": [
        {
          "output_type": "stream",
          "name": "stdout",
          "text": [
            "Wasiu\n"
          ]
        }
      ]
    },
    {
      "cell_type": "markdown",
      "source": [
        "Access Dictionary Items with get() method to avoid Key Error when Item Accessing is not found"
      ],
      "metadata": {
        "id": "4Qu2xAdkb80-"
      }
    },
    {
      "cell_type": "code",
      "source": [
        "dico = {'name': 'Wasiu', 'age': 35, 'status':'Staff', 'designation': 'Technologist'}\n",
        "print(dico.get('name')) #When item is there\n",
        "print(dico.get('gender')) #When item is there"
      ],
      "metadata": {
        "colab": {
          "base_uri": "https://localhost:8080/"
        },
        "id": "K-1L68ducIsW",
        "outputId": "24a85877-cc78-4eb4-9499-11af5be08a3f"
      },
      "execution_count": 6,
      "outputs": [
        {
          "output_type": "stream",
          "name": "stdout",
          "text": [
            "Wasiu\n",
            "None\n"
          ]
        }
      ]
    },
    {
      "cell_type": "markdown",
      "source": [
        "Add or Update Dictionary Items."
      ],
      "metadata": {
        "id": "r_dNOzYrdYNK"
      }
    },
    {
      "cell_type": "code",
      "source": [
        "dico = {'name': 'Wasiu', 'age': 35, 'status':'Staff', 'designation': 'Technologist'}\n",
        "dico['designation'] = 'Lecturer' #This is when key already exist but want to update its value\n",
        "print(dico)\n",
        "dico['gender'] = 'Male' #This is for adding new key and value\n",
        "print(dico)"
      ],
      "metadata": {
        "colab": {
          "base_uri": "https://localhost:8080/"
        },
        "id": "lHnd6nsZdanZ",
        "outputId": "24e69ac4-0f5d-4489-c9cb-88f7dfc9753e"
      },
      "execution_count": 14,
      "outputs": [
        {
          "output_type": "stream",
          "name": "stdout",
          "text": [
            "{'name': 'Wasiu', 'age': 35, 'status': 'Staff', 'designation': 'Lecturer'}\n",
            "{'name': 'Wasiu', 'age': 35, 'status': 'Staff', 'designation': 'Lecturer', 'gender': 'Male'}\n"
          ]
        }
      ]
    },
    {
      "cell_type": "markdown",
      "source": [
        "Merge Two Dictionaries with update() method. The method blindly overwrite the value of key that are clashed"
      ],
      "metadata": {
        "id": "R6ebrLS0eoBe"
      }
    },
    {
      "cell_type": "code",
      "source": [
        "dico = {'name': 'Wasiu', 'age': 35, 'status': 'Staff', 'designation': 'Technologist', 'gender': 'Male', 'office_no': 'Lab 209'}\n",
        "dico1 = {'name': 'Adam', 'age': '40', 'status': 'Staff', 'designation': 'Lecturer', 'employment_date': 2015}\n",
        "dico.update(dico1)\n",
        "print(dico)"
      ],
      "metadata": {
        "colab": {
          "base_uri": "https://localhost:8080/"
        },
        "id": "EEfUR5YXe1PE",
        "outputId": "b77b4e75-c7c0-4f13-e66d-f3fd3c55da25"
      },
      "execution_count": 23,
      "outputs": [
        {
          "output_type": "stream",
          "name": "stdout",
          "text": [
            "{'name': 'Adam', 'age': '40', 'status': 'Staff', 'designation': 'Lecturer', 'gender': 'Male', 'office_no': 'Lab 209', 'employment_date': 2015}\n"
          ]
        }
      ]
    },
    {
      "cell_type": "markdown",
      "source": [
        "Dictionary Items with pop method or del command"
      ],
      "metadata": {
        "id": "nTubkOgZhCvf"
      }
    },
    {
      "cell_type": "code",
      "source": [
        "dico1 = {'name': 'Adam', 'age': '40', 'status': 'Staff', 'designation': 'Lecturer', 'employment_date': 2015}\n",
        "rem_val = dico1.pop('employment_date') #With pop method we can get the value of deleted key\n",
        "print(dico1)\n",
        "print(rem_val)"
      ],
      "metadata": {
        "colab": {
          "base_uri": "https://localhost:8080/"
        },
        "id": "JQuEqQw9hDGX",
        "outputId": "33137098-982f-4570-afd6-b370a89d954f"
      },
      "execution_count": 25,
      "outputs": [
        {
          "output_type": "stream",
          "name": "stdout",
          "text": [
            "{'name': 'Adam', 'age': '40', 'status': 'Staff', 'designation': 'Lecturer'}\n",
            "2015\n"
          ]
        }
      ]
    },
    {
      "cell_type": "code",
      "source": [
        "dico1 = {'name': 'Adam', 'age': '40', 'status': 'Staff', 'designation': 'Lecturer', 'employment_date': 2015}\n",
        "del dico1['employment_date']\n",
        "print(dico1)"
      ],
      "metadata": {
        "colab": {
          "base_uri": "https://localhost:8080/"
        },
        "id": "niM9n_3yh_WE",
        "outputId": "edefd507-af87-400b-ef42-c9aa0d166597"
      },
      "execution_count": 27,
      "outputs": [
        {
          "output_type": "stream",
          "name": "stdout",
          "text": [
            "{'name': 'Adam', 'age': '40', 'status': 'Staff', 'designation': 'Lecturer'}\n"
          ]
        }
      ]
    },
    {
      "cell_type": "markdown",
      "source": [
        "Deleting Complete Dictyionary"
      ],
      "metadata": {
        "id": "pOUHBm1TihyZ"
      }
    },
    {
      "cell_type": "code",
      "source": [
        "dico1 = {'name': 'Adam', 'age': '40', 'status': 'Staff', 'designation': 'Lecturer', 'employment_date': 2015}\n",
        "(dico1).clear()\n",
        "print(dico1)"
      ],
      "metadata": {
        "colab": {
          "base_uri": "https://localhost:8080/"
        },
        "id": "2XIqTFcPinhx",
        "outputId": "a8ad43bf-d2b1-41ea-9043-4046eadd2107"
      },
      "execution_count": 29,
      "outputs": [
        {
          "output_type": "stream",
          "name": "stdout",
          "text": [
            "{}\n"
          ]
        }
      ]
    },
    {
      "cell_type": "markdown",
      "source": [
        "While Loop"
      ],
      "metadata": {
        "id": "8zNmf9p3jJrW"
      }
    },
    {
      "cell_type": "code",
      "source": [
        "x = 10\n",
        "while x >= 0:\n",
        "  print(x)\n",
        "  x-=1\n"
      ],
      "metadata": {
        "colab": {
          "base_uri": "https://localhost:8080/"
        },
        "id": "wgMjtxwtjMVv",
        "outputId": "07411e44-3e4e-4cdd-c10d-0fb1814cb69f"
      },
      "execution_count": 31,
      "outputs": [
        {
          "output_type": "stream",
          "name": "stdout",
          "text": [
            "10\n",
            "9\n",
            "8\n",
            "7\n",
            "6\n",
            "5\n",
            "4\n",
            "3\n",
            "2\n",
            "1\n",
            "0\n"
          ]
        }
      ]
    },
    {
      "cell_type": "markdown",
      "source": [
        "Break Statement"
      ],
      "metadata": {
        "id": "ULZRGQj1k-cp"
      }
    },
    {
      "cell_type": "code",
      "source": [
        "x = 0\n",
        "n = 10\n",
        "while x < n:\n",
        "  print(x)\n",
        "  if x == 4:\n",
        "    break\n",
        "  x+=1\n"
      ],
      "metadata": {
        "colab": {
          "base_uri": "https://localhost:8080/"
        },
        "id": "vK9fqwQKjq7O",
        "outputId": "8350c556-470b-4ccd-84e5-ba46e8dfbc42"
      },
      "execution_count": 37,
      "outputs": [
        {
          "output_type": "stream",
          "name": "stdout",
          "text": [
            "0\n",
            "1\n",
            "2\n",
            "3\n",
            "4\n"
          ]
        }
      ]
    },
    {
      "cell_type": "markdown",
      "source": [
        "Continue Statement"
      ],
      "metadata": {
        "id": "jTQFJmTNlXmY"
      }
    },
    {
      "cell_type": "code",
      "source": [
        "n = 10\n",
        "while n > 0:\n",
        "  n-=1 \n",
        "  if n % 2 == 0:\n",
        "    continue\n",
        "  print(n)"
      ],
      "metadata": {
        "colab": {
          "base_uri": "https://localhost:8080/"
        },
        "id": "v924SJ5OlZxX",
        "outputId": "e6724ef4-bf38-4822-baf8-4f054f4d2e96"
      },
      "execution_count": 6,
      "outputs": [
        {
          "output_type": "stream",
          "name": "stdout",
          "text": [
            "9\n",
            "7\n",
            "5\n",
            "3\n",
            "1\n"
          ]
        }
      ]
    },
    {
      "cell_type": "code",
      "source": [
        "n = 0\n",
        "while n < 10:\n",
        "  n += 1\n",
        "  if n % 2 == 1:\n",
        "    continue\n",
        "  print(n)\n",
        "  "
      ],
      "metadata": {
        "colab": {
          "base_uri": "https://localhost:8080/"
        },
        "id": "ZRKJ2WH4pCiS",
        "outputId": "239d68f5-966d-42a3-9915-e32754ef5782"
      },
      "execution_count": 14,
      "outputs": [
        {
          "output_type": "stream",
          "name": "stdout",
          "text": [
            "2\n",
            "4\n",
            "6\n",
            "8\n",
            "10\n"
          ]
        }
      ]
    },
    {
      "cell_type": "markdown",
      "source": [
        "Function without argument"
      ],
      "metadata": {
        "id": "MVelsjYTxp74"
      }
    },
    {
      "cell_type": "code",
      "source": [
        "def hello_world():\n",
        "  print('Hello World! This is a Python function demo')\n",
        "\n",
        "hello_world()"
      ],
      "metadata": {
        "colab": {
          "base_uri": "https://localhost:8080/"
        },
        "id": "xJwFMG8FxFL6",
        "outputId": "2b7e8c2b-5a2f-44e6-ff43-72bd44bc0981"
      },
      "execution_count": 16,
      "outputs": [
        {
          "output_type": "stream",
          "name": "stdout",
          "text": [
            "Hello World! This is a Python function demo\n"
          ]
        }
      ]
    },
    {
      "cell_type": "markdown",
      "source": [
        "Function with one argument"
      ],
      "metadata": {
        "id": "1qjCQV0txt2f"
      }
    },
    {
      "cell_type": "code",
      "source": [
        "def hello_world1(name):\n",
        "  print('Hello ', name)\n",
        "\n",
        "hello_world1('Adam')"
      ],
      "metadata": {
        "colab": {
          "base_uri": "https://localhost:8080/"
        },
        "id": "400B0gWoxw4X",
        "outputId": "c0aef454-26a7-4233-b276-fb2edbc52063"
      },
      "execution_count": 18,
      "outputs": [
        {
          "output_type": "stream",
          "name": "stdout",
          "text": [
            "Hello  Adam\n"
          ]
        }
      ]
    },
    {
      "cell_type": "markdown",
      "source": [
        "Function with two argument (Positional Arguments: Order is important)"
      ],
      "metadata": {
        "id": "N1S_vbIfyXbm"
      }
    },
    {
      "cell_type": "code",
      "source": [
        "def greeting(name, greet):\n",
        "  print('Hello!', name, greet)\n",
        "\n",
        "greeting('Adam', 'How are you?')"
      ],
      "metadata": {
        "colab": {
          "base_uri": "https://localhost:8080/"
        },
        "id": "TaISoXSlyaFW",
        "outputId": "65168d85-123f-4cea-9b3f-98e57fc56c7a"
      },
      "execution_count": 23,
      "outputs": [
        {
          "output_type": "stream",
          "name": "stdout",
          "text": [
            "Hello! Adam How are you?\n"
          ]
        }
      ]
    },
    {
      "cell_type": "markdown",
      "source": [
        "Keywords Argument: Order is of no importance"
      ],
      "metadata": {
        "id": "9CQFpiY9XOJB"
      }
    },
    {
      "cell_type": "code",
      "source": [
        "def status(name, job):\n",
        "  print(name,'is a',job,)\n",
        "\n",
        "status(job='Lecturer', name='Adam')"
      ],
      "metadata": {
        "colab": {
          "base_uri": "https://localhost:8080/"
        },
        "id": "JbT4qOsqXYlp",
        "outputId": "6c8667f5-e7bb-434f-f2b5-4605a0927f93"
      },
      "execution_count": 4,
      "outputs": [
        {
          "output_type": "stream",
          "name": "stdout",
          "text": [
            "Adam is a Lecturer\n"
          ]
        }
      ]
    },
    {
      "cell_type": "markdown",
      "source": [
        "Default Argument: It allows you to make selected arguments optional"
      ],
      "metadata": {
        "id": "anMuMw-KYWIz"
      }
    },
    {
      "cell_type": "code",
      "source": [
        "def status(job, name='Adam'):\n",
        "  print(name,'is a',job)\n",
        "\n",
        "status('Programmer','Wasiu')\n",
        "status('Lecturer')"
      ],
      "metadata": {
        "colab": {
          "base_uri": "https://localhost:8080/"
        },
        "id": "VtKr0lB2YZFs",
        "outputId": "6113dc71-e3c4-48c9-da0f-66dd92aa443c"
      },
      "execution_count": 8,
      "outputs": [
        {
          "output_type": "stream",
          "name": "stdout",
          "text": [
            "Wasiu is a Programmer\n",
            "Adam is a Lecturer\n"
          ]
        }
      ]
    },
    {
      "cell_type": "markdown",
      "source": [
        "Variable Length Positional Arguments: *args"
      ],
      "metadata": {
        "id": "KBFUapueZjGo"
      }
    },
    {
      "cell_type": "code",
      "source": [
        "def body_parts(*args):\n",
        "  print(args)\n",
        "\n",
        "body_parts('head','eyes','nose','ear','mouth')"
      ],
      "metadata": {
        "colab": {
          "base_uri": "https://localhost:8080/"
        },
        "id": "0kLTDBXOab92",
        "outputId": "9a4fe774-126b-4682-b3ad-ba0e9ea4337e"
      },
      "execution_count": 9,
      "outputs": [
        {
          "output_type": "stream",
          "name": "stdout",
          "text": [
            "('head', 'eyes', 'nose', 'ear', 'mouth')\n"
          ]
        }
      ]
    },
    {
      "cell_type": "markdown",
      "source": [
        "Variable Length Keywords Arguments: **kwargs"
      ],
      "metadata": {
        "id": "TjPTFowKbQUi"
      }
    },
    {
      "cell_type": "code",
      "source": [
        "def body_parts(**kwargs):\n",
        "  print(kwargs)\n",
        "\n",
        "body_parts(ori='head',oju='eyes',imu='nose',eti='ear',enu='mouth')"
      ],
      "metadata": {
        "colab": {
          "base_uri": "https://localhost:8080/"
        },
        "id": "0cEswsd8bVLc",
        "outputId": "6c1e169c-1ab4-4dd7-dd67-d278193cded3"
      },
      "execution_count": 10,
      "outputs": [
        {
          "output_type": "stream",
          "name": "stdout",
          "text": [
            "{'ori': 'head', 'oju': 'eyes', 'imu': 'nose', 'eti': 'ear', 'enu': 'mouth'}\n"
          ]
        }
      ]
    },
    {
      "cell_type": "markdown",
      "source": [
        "Return Value"
      ],
      "metadata": {
        "id": "QGM0bTtvcAcP"
      }
    },
    {
      "cell_type": "code",
      "source": [
        "def add(a,b):\n",
        "  return(a+b)\n",
        "\n",
        "x = add(5,10)\n",
        "print(x)"
      ],
      "metadata": {
        "colab": {
          "base_uri": "https://localhost:8080/"
        },
        "id": "ZXYZLQSDcBvo",
        "outputId": "17b05478-7d67-4bb1-f83b-f774adb9e95c"
      },
      "execution_count": 11,
      "outputs": [
        {
          "output_type": "stream",
          "name": "stdout",
          "text": [
            "15\n"
          ]
        }
      ]
    },
    {
      "cell_type": "markdown",
      "source": [
        "Return Multiple Values"
      ],
      "metadata": {
        "id": "O0Q79_STcWRm"
      }
    },
    {
      "cell_type": "code",
      "source": [
        "def mul_div(a, b):\n",
        "  return(a * b, a / b)\n",
        "\n",
        "results = mul_div(20, 5)\n",
        "print(results)"
      ],
      "metadata": {
        "colab": {
          "base_uri": "https://localhost:8080/"
        },
        "id": "COd80r1ocum8",
        "outputId": "50b19163-2675-49e5-90dc-5afe9c170d69"
      },
      "execution_count": 12,
      "outputs": [
        {
          "output_type": "stream",
          "name": "stdout",
          "text": [
            "(100, 4.0)\n"
          ]
        }
      ]
    },
    {
      "cell_type": "markdown",
      "source": [
        "Docstrings"
      ],
      "metadata": {
        "id": "tLMjVTRmdZow"
      }
    },
    {
      "cell_type": "code",
      "source": [
        "def hello():\n",
        "  \"\"\"This function prints\n",
        "  messages on the screen.\"\"\"\n",
        "  print('Hello World!')\n",
        "\n",
        "help(hello)\n",
        "\n"
      ],
      "metadata": {
        "colab": {
          "base_uri": "https://localhost:8080/"
        },
        "id": "d6xU9VmVdWkL",
        "outputId": "998e1ae0-074c-4896-f74b-619c7e651f0d"
      },
      "execution_count": 14,
      "outputs": [
        {
          "output_type": "stream",
          "name": "stdout",
          "text": [
            "Help on function hello in module __main__:\n",
            "\n",
            "hello()\n",
            "    This function prints\n",
            "    messages on the screen\n",
            "\n"
          ]
        }
      ]
    },
    {
      "cell_type": "markdown",
      "source": [
        "Creating a Class"
      ],
      "metadata": {
        "id": "iOzFrwO9fuLd"
      }
    },
    {
      "cell_type": "code",
      "source": [
        "class Car:\n",
        "  pass\n",
        "#The pass indicates the class is an empty class"
      ],
      "metadata": {
        "id": "aYwWS3XHfvNe"
      },
      "execution_count": 16,
      "outputs": []
    },
    {
      "cell_type": "markdown",
      "source": [
        "The __init__() Method"
      ],
      "metadata": {
        "id": "KWlQ4W1JgUAC"
      }
    },
    {
      "cell_type": "code",
      "source": [
        "class Car:\n",
        "  def __init__(self):\n",
        "      pass\n",
        "#The self parameter refers to the individual object itself and it is used to fetch or set attributes of the particular instance"
      ],
      "metadata": {
        "id": "B1n_AJDTgWzI"
      },
      "execution_count": 17,
      "outputs": []
    },
    {
      "cell_type": "markdown",
      "source": [
        "Instance Attributes: Unique for each instance"
      ],
      "metadata": {
        "id": "8r4HdCPBgwyh"
      }
    },
    {
      "cell_type": "code",
      "source": [
        "# A class with teo instance attributes\n",
        "class Car:\n",
        "  def __init__(self, color, style):\n",
        "    self.color = color\n",
        "    self.style = style\n"
      ],
      "metadata": {
        "id": "bOj0HKHAhLj5"
      },
      "execution_count": null,
      "outputs": []
    },
    {
      "cell_type": "markdown",
      "source": [
        "Class Attribute: General for all instances"
      ],
      "metadata": {
        "id": "fJ_J4lCurOAP"
      }
    },
    {
      "cell_type": "code",
      "source": [
        "class Car:\n",
        "  # class attribute\n",
        "  wheel = 4\n",
        "  # initializer with instant attributes\n",
        "  def __init__(self, color, style):\n",
        "    self.color =color\n",
        "    self.style = style\n",
        "    "
      ],
      "metadata": {
        "id": "rwszGbKxrdYW"
      },
      "execution_count": null,
      "outputs": []
    },
    {
      "cell_type": "markdown",
      "source": [
        "Creating an Object: Instance of a class       \n"
      ],
      "metadata": {
        "id": "b7lpZ1VVsi1L"
      }
    },
    {
      "cell_type": "code",
      "source": [
        "class Car:\n",
        "  wheel = 4\n",
        "  def __init__(self, color, style):\n",
        "    self.color =color\n",
        "    self.style = style\n",
        "\n",
        "toyota = Car('Grey', 'Camry')"
      ],
      "metadata": {
        "id": "snsanTi-smp5"
      },
      "execution_count": null,
      "outputs": []
    },
    {
      "cell_type": "markdown",
      "source": [
        "Accessing and Modifying c"
      ],
      "metadata": {
        "id": "eBsX7vXdtrWn"
      }
    },
    {
      "cell_type": "code",
      "source": [
        "class Car:\n",
        "  # class attribute\n",
        "  wheel = 4\n",
        "  # initializer with instant attributes\n",
        "  def __init__(self, color, style):\n",
        "    self.color = color\n",
        "    self.style = style\n",
        "\n",
        "\n",
        "toyota = Car('Grey','Camry')\n",
        "\n",
        "# Access attributes\n",
        "print(toyota.color)\n",
        "print(toyota.style)\n",
        "\n",
        "# Modify attributes\n",
        "toyota.style = 'Corola'\n",
        "\n",
        "print(toyota.style)"
      ],
      "metadata": {
        "colab": {
          "base_uri": "https://localhost:8080/"
        },
        "id": "ff0XAzcutvdW",
        "outputId": "855317bd-3b7d-4ead-fc92-a5e4792b3c81"
      },
      "execution_count": 19,
      "outputs": [
        {
          "output_type": "stream",
          "name": "stdout",
          "text": [
            "Grey\n",
            "Camry\n",
            "Corola\n"
          ]
        }
      ]
    },
    {
      "cell_type": "markdown",
      "source": [
        "Class Methods"
      ],
      "metadata": {
        "id": "ItsKJxBUvm1Y"
      }
    },
    {
      "cell_type": "code",
      "source": [
        "class Car:\n",
        "  # class attribute\n",
        "  wheel = 4\n",
        "  # initializer with instant attributes\n",
        "  def __init__(self, color, style):\n",
        "    self.color = color\n",
        "    self.style = style\n",
        "  \n",
        "  # Define method 1\n",
        "  def showDescription(self):\n",
        "    print('This car is a', self.color, self.style)\n",
        "\n",
        "  def changeColor(self, color):\n",
        "    self.color = color\n",
        "\n",
        "toyota = Car('Black','Siena')\n",
        "\n",
        "# call method 1\n",
        "toyota.showDescription()\n",
        "\n",
        "# call method 2\n",
        "toyota.changeColor(color = 'Blue')\n",
        "toyota.showDescription()"
      ],
      "metadata": {
        "colab": {
          "base_uri": "https://localhost:8080/"
        },
        "id": "ZHD-EDiXvo3r",
        "outputId": "85c4acfe-3488-48ce-8ca7-e9caddd5a01e"
      },
      "execution_count": 21,
      "outputs": [
        {
          "output_type": "stream",
          "name": "stdout",
          "text": [
            "This car is a Black Siena\n",
            "This car is a Blue Siena\n"
          ]
        }
      ]
    },
    {
      "cell_type": "code",
      "source": [
        "class Car:\n",
        "  # class attribute\n",
        "  wheel = 4\n",
        "  # initializer with instant attributes\n",
        "  def __init__(self, color, style):\n",
        "    self.color = color\n",
        "    self.style = style\n",
        "  \n",
        "  # Define method 1\n",
        "  def showDescription(self):\n",
        "    print('This car is a', self.color, self.style)\n",
        "\n",
        "  # define method 2\n",
        "  def changeColor(self, color):\n",
        "    self.color = color\n",
        "\n",
        "toyota = Car('Black','Siena')\n",
        "\n",
        "# call method 1\n",
        "toyota.showDescription()\n",
        "\n",
        "# call method 2\n",
        "toyota.changeColor(color = 'Blue')\n",
        "toyota.showDescription()\n",
        "\n",
        "# del toyota.color\n",
        "#toyota.showDescription()"
      ],
      "metadata": {
        "colab": {
          "base_uri": "https://localhost:8080/"
        },
        "outputId": "8b574632-b8e5-4a63-919f-622dd5bbed82",
        "id": "lkebyJujx-WX"
      },
      "execution_count": 23,
      "outputs": [
        {
          "output_type": "stream",
          "name": "stdout",
          "text": [
            "This car is a Black Siena\n",
            "This car is a Blue Siena\n",
            "This car is a Blue Siena\n"
          ]
        }
      ]
    }
  ]
}